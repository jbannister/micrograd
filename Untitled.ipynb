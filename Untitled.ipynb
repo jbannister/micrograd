{
 "cells": [
  {
   "cell_type": "code",
   "execution_count": null,
   "id": "ba90a621-438c-46bd-ba06-f7a5c0880734",
   "metadata": {},
   "outputs": [],
   "source": [
    "from betfairlightweight import APIClient\n",
    "from betfairlightweight.filters import market_filter\n",
    "\n",
    "# Your Betfair username, password, and API key\n",
    "username = 'janbannister'\n",
    "password = 'your_password'\n",
    "app_key = 'your_app_key'\n",
    "\n",
    "# Initialize the API client\n",
    "trading = APIClient(username, password, app_key, app_key_delayed=app_key)\n",
    "trading.login()\n",
    "\n",
    "# Define the market filter\n",
    "event_type_id = '2'  # Tennis\n",
    "market_filter = market_filter(event_type_ids=[event_type_id])\n",
    "\n",
    "# List market catalogues\n",
    "market_catalogues = trading.betting.list_market_catalogue(\n",
    "    filter=market_filter,\n",
    "    market_projection=['RUNNER_DESCRIPTION'],\n",
    "    max_results='10'\n",
    ")\n",
    "\n",
    "# Print market details\n",
    "for market in market_catalogues:\n",
    "    print(market.market_name, market.market_start_time, [runner.runner_name for runner in market.runners])\n",
    "\n",
    "# Logout when done\n",
    "trading.logout()"
   ]
  }
 ],
 "metadata": {
  "kernelspec": {
   "display_name": "Python 3 (ipykernel)",
   "language": "python",
   "name": "python3"
  },
  "language_info": {
   "codemirror_mode": {
    "name": "ipython",
    "version": 3
   },
   "file_extension": ".py",
   "mimetype": "text/x-python",
   "name": "python",
   "nbconvert_exporter": "python",
   "pygments_lexer": "ipython3",
   "version": "3.10.0"
  }
 },
 "nbformat": 4,
 "nbformat_minor": 5
}
