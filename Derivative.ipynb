{
 "cells": [
  {
   "cell_type": "code",
   "execution_count": 1,
   "id": "e11365a9-9384-4702-82cc-be84527df20f",
   "metadata": {},
   "outputs": [],
   "source": [
    "import math\n",
    "import numpy as np\n",
    "import matplotlib.pyplot as plt\n",
    "%matplotlib inline"
   ]
  },
  {
   "cell_type": "code",
   "execution_count": 2,
   "id": "ca1fbce2-de44-476f-8ea7-7093d0852d6f",
   "metadata": {},
   "outputs": [],
   "source": [
    "def f(x):\n",
    "    return 3*x**2 - 4*x + 5"
   ]
  },
  {
   "cell_type": "code",
   "execution_count": 3,
   "id": "0d41f984-efc4-43f9-902a-76586b521022",
   "metadata": {},
   "outputs": [
    {
     "data": {
      "text/plain": [
       "20.0"
      ]
     },
     "execution_count": 3,
     "metadata": {},
     "output_type": "execute_result"
    }
   ],
   "source": [
    "f(3.0)"
   ]
  },
  {
   "cell_type": "code",
   "execution_count": 4,
   "id": "d5479680-5a9e-4f38-a066-588be1940704",
   "metadata": {},
   "outputs": [
    {
     "data": {
      "text/plain": [
       "array([100.    ,  91.6875,  83.75  ,  76.1875,  69.    ,  62.1875,\n",
       "        55.75  ,  49.6875,  44.    ,  38.6875,  33.75  ,  29.1875,\n",
       "        25.    ,  21.1875,  17.75  ,  14.6875,  12.    ,   9.6875,\n",
       "         7.75  ,   6.1875,   5.    ,   4.1875,   3.75  ,   3.6875,\n",
       "         4.    ,   4.6875,   5.75  ,   7.1875,   9.    ,  11.1875,\n",
       "        13.75  ,  16.6875,  20.    ,  23.6875,  27.75  ,  32.1875,\n",
       "        37.    ,  42.1875,  47.75  ,  53.6875])"
      ]
     },
     "execution_count": 4,
     "metadata": {},
     "output_type": "execute_result"
    }
   ],
   "source": [
    "xs = np.arange(-5, 5, 0.25)\n",
    "ys = f(xs)\n",
    "ys"
   ]
  },
  {
   "cell_type": "code",
   "execution_count": 5,
   "id": "223a22cd-9083-49ad-bd3a-7e50df155903",
   "metadata": {},
   "outputs": [
    {
     "data": {
      "text/plain": [
       "[<matplotlib.lines.Line2D at 0x107d418a0>]"
      ]
     },
     "execution_count": 5,
     "metadata": {},
     "output_type": "execute_result"
    },
    {
     "data": {
      "image/png": "[encoded data removed]",
      "text/plain": [
       "<Figure size 432x288 with 1 Axes>"
      ]
     },
     "metadata": {
      "needs_background": "light"
     },
     "output_type": "display_data"
    }
   ],
   "source": [
    "plt.plot(ys)"
   ]
  },
  {
   "cell_type": "code",
   "execution_count": 6,
   "id": "d4985f18-676b-48f4-a1c9-12ae4951790d",
   "metadata": {},
   "outputs": [
    {
     "data": {
      "text/plain": [
       "3.666666666666667"
      ]
     },
     "execution_count": 6,
     "metadata": {},
     "output_type": "execute_result"
    }
   ],
   "source": [
    "h = 0.00000001\n",
    "x = 2/3 #3.0 \n",
    "f(x + h)"
   ]
  },
  {
   "cell_type": "code",
   "execution_count": 7,
   "id": "ca748a90-c6df-4ecc-b4b2-124d6870ed5e",
   "metadata": {},
   "outputs": [
    {
     "data": {
      "text/plain": [
       "0.0"
      ]
     },
     "execution_count": 7,
     "metadata": {},
     "output_type": "execute_result"
    }
   ],
   "source": [
    "f(x + h) - f(x)"
   ]
  },
  {
   "cell_type": "code",
   "execution_count": 8,
   "id": "788e53dd-275f-44b0-9627-43cac7769cdb",
   "metadata": {},
   "outputs": [
    {
     "data": {
      "text/plain": [
       "0.0"
      ]
     },
     "execution_count": 8,
     "metadata": {},
     "output_type": "execute_result"
    }
   ],
   "source": [
    "(f(x + h) - f(x))/h"
   ]
  },
  {
   "cell_type": "code",
   "execution_count": 9,
   "id": "bd777528-f3bf-43aa-86ad-8f1cdffa2396",
   "metadata": {},
   "outputs": [
    {
     "name": "stdout",
     "output_type": "stream",
     "text": [
      "4.0\n"
     ]
    }
   ],
   "source": [
    "# let get more complex\n",
    "a = 2.0\n",
    "b = -3.0\n",
    "c = 10.0\n",
    "d = a * b + c\n",
    "print(d)"
   ]
  },
  {
   "cell_type": "code",
   "execution_count": 10,
   "id": "c21d4c0d-e3fc-436e-bb2c-ab47d69aca64",
   "metadata": {
    "tags": []
   },
   "outputs": [],
   "source": [
    "h = 0.0001\n",
    "\n",
    "a = 2.0\n",
    "b = -3.0\n",
    "c = 10.0\n",
    "d = a * b + c"
   ]
  },
  {
   "cell_type": "code",
   "execution_count": 11,
   "id": "9f4fea12-32cc-49d2-858d-135af9c7428a",
   "metadata": {},
   "outputs": [
    {
     "name": "stdout",
     "output_type": "stream",
     "text": [
      "d1 4.0\n",
      "d2 3.999699999999999\n",
      "slope 3.000000000010772\n"
     ]
    }
   ],
   "source": [
    "d1 = a * b + c\n",
    "a += h\n",
    "d2 = a * b + c\n",
    "\n",
    "print(\"d1\", d1)\n",
    "print('d2', d2)\n",
    "print('slope', (d1 - d2)/h)"
   ]
  },
  {
   "cell_type": "code",
   "execution_count": 12,
   "id": "8349db61-af5a-4301-bf25-1ce697cfdc99",
   "metadata": {},
   "outputs": [
    {
     "name": "stdout",
     "output_type": "stream",
     "text": [
      "d1 3.999699999999999\n",
      "d2 3.99990001\n",
      "slope -2.0001000000124947\n"
     ]
    }
   ],
   "source": [
    "d1 = a * b + c\n",
    "b += h\n",
    "d2 = a * b + c\n",
    "print(\"d1\", d1)\n",
    "print('d2', d2)\n",
    "print('slope', (d1 - d2)/h)"
   ]
  },
  {
   "cell_type": "code",
   "execution_count": 13,
   "id": "705eaf13-2e47-4d7b-8937-7c3939a3f0bb",
   "metadata": {},
   "outputs": [
    {
     "name": "stdout",
     "output_type": "stream",
     "text": [
      "d1 3.99990001\n",
      "d2 4.00000001\n",
      "slope -0.9999999999976694\n"
     ]
    }
   ],
   "source": [
    "d1 = a * b + c\n",
    "c += h\n",
    "d2 = a * b + c\n",
    "print(\"d1\", d1)\n",
    "print('d2', d2)\n",
    "print('slope', (d1 - d2)/h)"
   ]
  },
  {
   "cell_type": "markdown",
   "id": "c140ca64-1eaf-4f38-8a25-af618cd859c3",
   "metadata": {},
   "source": [
    "## Value"
   ]
  },
  {
   "cell_type": "code",
   "execution_count": 22,
   "id": "610ec836-c1b4-4eba-84e4-99061c799b1d",
   "metadata": {},
   "outputs": [],
   "source": [
    "class Value:\n",
    "    \"\"\" stores a single scalar value and its gradient \"\"\"\n",
    "\n",
    "    def __init__(self, data, _children=(), _op=''):\n",
    "        self.data = data\n",
    "        self._prev = set(_children)\n",
    "        self._op = _op # the op that produced this node, for graphviz / debugging / etc\n",
    "\n",
    "    def __add__(self, other):\n",
    "        other = other if isinstance(other, Value) else Value(other)\n",
    "        out = Value(self.data + other.data, (self, other), '+')\n",
    "        return out\n",
    "\n",
    "    def __mul__(self, other):\n",
    "        other = other if isinstance(other, Value) else Value(other)\n",
    "        out = Value(self.data * other.data, (self, other), '*')\n",
    "        return out\n",
    "    \n",
    "    def __repr__(self):\n",
    "        return f\"Value(data={self.data})\"\n",
    "        "
   ]
  },
  {
   "cell_type": "code",
   "execution_count": 24,
   "id": "3454422c-4669-4f19-8569-737bf0362875",
   "metadata": {},
   "outputs": [
    {
     "name": "stdout",
     "output_type": "stream",
     "text": [
      "Value(data=-6.0)\n"
     ]
    },
    {
     "data": {
      "text/plain": [
       "Value(data=4.0)"
      ]
     },
     "execution_count": 24,
     "metadata": {},
     "output_type": "execute_result"
    }
   ],
   "source": [
    "a = Value(2.0)\n",
    "b = Value(-3.0)\n",
    "print(a*b)\n",
    "c = Value(10.0)\n",
    "d = a*b+c\n",
    "d"
   ]
  },
  {
   "cell_type": "code",
   "execution_count": null,
   "id": "ad69d6ec-73e7-4129-a57e-74e6c8b5160e",
   "metadata": {},
   "outputs": [],
   "source": []
  }
 ],
 "metadata": {
  "kernelspec": {
   "display_name": "Python 3 (ipykernel)",
   "language": "python",
   "name": "python3"
  },
  "language_info": {
   "codemirror_mode": {
    "name": "ipython",
    "version": 3
   },
   "file_extension": ".py",
   "mimetype": "text/x-python",
   "name": "python",
   "nbconvert_exporter": "python",
   "pygments_lexer": "ipython3",
   "version": "3.10.0"
  }
 },
 "nbformat": 4,
 "nbformat_minor": 5
}
