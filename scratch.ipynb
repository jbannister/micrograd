{
 "cells": [
  {
   "cell_type": "code",
   "execution_count": 1,
   "id": "f1c7d6ed-50f9-4083-9862-9c7a465166b1",
   "metadata": {},
   "outputs": [],
   "source": [
    "class Value:\n",
    "    \"\"\" stores a single scalar value and its gradient \"\"\"\n",
    "\n",
    "    def __init__(self, data, _children=(), _op='', label=''):\n",
    "        self.data = data\n",
    "        self.grad = 0.0\n",
    "        self.label = label\n",
    "        self._backward = lambda: None\n",
    "        self._prev = set(_children)\n",
    "        self._op = _op # the op that produced this node, for graphviz / debugging / etc\n",
    "\n",
    "    def __add__(self, other):\n",
    "        other = other if isinstance(other, Value) else Value(other)\n",
    "        out = Value(self.data + other.data, (self, other), '+')\n",
    "        \n",
    "        def _backward():\n",
    "            self.grad = 1.0 * self.grad\n",
    "            other.grad = 1.0 * self.grad\n",
    "            print(\"Backward: 1.0 + \" + str(self.grad) + \" = \" + str(self.grad))\n",
    "            print(\"Backward: 1.0 + \" + str(self.grad) + \" = \" + str(other.grad))\n",
    "        self._backward = _backward\n",
    "        \n",
    "        return out\n",
    "\n",
    "    def __mul__(self, other):\n",
    "        other = other if isinstance(other, Value) else Value(other)\n",
    "        out = Value(self.data * other.data, (self, other), '*')\n",
    "        \n",
    "        def _backward():\n",
    "            self.grad = other.data * self.grad\n",
    "            other.grad = self.data * self.grad\n",
    "            print(\"Backward: * -> \" + str(self.grad))\n",
    "            print(\"Backward: * -> \" + str(other.grad))\n",
    "        self._backward = _backward\n",
    "        \n",
    "        return out\n",
    "    \n",
    "    def tanh(self):\n",
    "        x = self.data\n",
    "        t = (math.exp(2*x) - 1) / (math.exp(2*x) + 1)\n",
    "        out = Value(t, (self, ), 'tanh')\n",
    "        \n",
    "        def _backward():\n",
    "            self.grad = (1 - t**2) * self.grad\n",
    "            print(\"Backward: tanh(x) : \" + str(1 - t**2) +  \" - \" + str(self.grad))\n",
    "        self._backward = _backward\n",
    "        \n",
    "        return out\n",
    "        \n",
    "    def __repr__(self):\n",
    "        return f\"Value(label={self.label}, op={self._op}, data={self.data}, grad={self.grad})\""
   ]
  },
  {
   "cell_type": "code",
   "execution_count": 2,
   "id": "6e9ab2d9-7f08-4cda-88ed-051db16ae99b",
   "metadata": {
    "tags": []
   },
   "outputs": [
    {
     "data": {
      "text/plain": [
       "Value(label=L, op=*, data=-8.0, grad=0.0)"
      ]
     },
     "execution_count": 2,
     "metadata": {},
     "output_type": "execute_result"
    }
   ],
   "source": [
    "a = Value(2.0, label='a') \n",
    "b = Value(-3.0, label='b')\n",
    "#print(a*b)\n",
    "c = Value(10.0, label='c')\n",
    "e = a*b; e.label = 'e'\n",
    "d = e + c; d.label = 'd'\n",
    "f = Value(-2.0, label = 'f'); f.label = 'f'\n",
    "L = d * f; L.label = 'L'\n",
    "L"
   ]
  },
  {
   "cell_type": "code",
   "execution_count": 3,
   "id": "62ac2079-0c4f-4ac5-9add-fb4f03b17a08",
   "metadata": {},
   "outputs": [
    {
     "data": {
      "text/plain": [
       "Value(label=L, op=*, data=-8.0, grad=1.0)"
      ]
     },
     "execution_count": 3,
     "metadata": {},
     "output_type": "execute_result"
    }
   ],
   "source": [
    "L.grad = 1.0\n",
    "L"
   ]
  },
  {
   "cell_type": "code",
   "execution_count": 4,
   "id": "77cf35fb-5e1d-4ace-b26d-89c8c620810f",
   "metadata": {},
   "outputs": [
    {
     "name": "stdout",
     "output_type": "stream",
     "text": [
      "Value(label=f, op=, data=-2.0, grad=4.0)\n"
     ]
    },
    {
     "data": {
      "text/plain": [
       "Value(label=d, op=+, data=4.0, grad=-2.0)"
      ]
     },
     "execution_count": 4,
     "metadata": {},
     "output_type": "execute_result"
    }
   ],
   "source": [
    "f.grad = 4.0\n",
    "d.grad = -2.0\n",
    "print(f)\n",
    "d"
   ]
  },
  {
   "cell_type": "code",
   "execution_count": 5,
   "id": "d991362a-e74b-4e2c-b77b-64b5d193e09d",
   "metadata": {},
   "outputs": [
    {
     "name": "stdout",
     "output_type": "stream",
     "text": [
      "-6.000000000021544\n"
     ]
    }
   ],
   "source": [
    "def lol():\n",
    "    \n",
    "    h = 0.0001\n",
    "    \n",
    "    a = Value(2.0, label='a') \n",
    "    b = Value(-3.0, label='b')\n",
    "    #print(a*b)\n",
    "    c = Value(10.0, label='c')\n",
    "    e = a*b; e.label = 'e'\n",
    "    d = e + c; d.label = 'd'\n",
    "    f = Value(-2.0, label = 'f')\n",
    "    L = d * f; L.label = 'L'\n",
    "    L1 = L.data\n",
    "    \n",
    "    a = Value(2.0 + h, label='a') \n",
    "    b = Value(-3.0, label='b')\n",
    "    #print(a*b)\n",
    "    c = Value(10.0, label='c')\n",
    "    e = a*b; e.label = 'e'\n",
    "    d = e + c; d.label = 'd'\n",
    "    f = Value(-2.0, label = 'f')\n",
    "    L = d * f; L.label = 'L'\n",
    "    L2 = L.data\n",
    "    \n",
    "    print((L1 - L2)/h)\n",
    "    \n",
    "lol() "
   ]
  },
  {
   "cell_type": "code",
   "execution_count": 7,
   "id": "8bcc61f5-6cac-4a7d-8e65-8df2f7f052f6",
   "metadata": {},
   "outputs": [
    {
     "name": "stdout",
     "output_type": "stream",
     "text": [
      "0.66 1.3333333333333333e-05\n"
     ]
    }
   ],
   "source": [
    "a = 66 / 100\n",
    "b = (1/750) / 100\n",
    "print(a,b)"
   ]
  },
  {
   "cell_type": "code",
   "execution_count": 10,
   "id": "56cd349d-8f2f-4983-9683-ff8f3ec6aaa1",
   "metadata": {},
   "outputs": [
    {
     "name": "stdout",
     "output_type": "stream",
     "text": [
      "31.0 5.0 1.1818181818181819\n"
     ]
    },
    {
     "data": {
      "text/plain": [
       "(3.225806451612903, 20.0, 84.61538461538461, 107.84119106699751)"
      ]
     },
     "execution_count": 10,
     "metadata": {},
     "output_type": "execute_result"
    }
   ],
   "source": [
    "def fractional_to_decimal(numerator, denominator):\n",
    "    return 1 + numerator / denominator\n",
    "\n",
    "def implied_probability(decimal_odds):\n",
    "    return 1 / decimal_odds * 100  # Convert to percentage\n",
    "\n",
    "# Convert fractional odds to decimal odds\n",
    "decimal_odds_A    = fractional_to_decimal(30, 1)\n",
    "decimal_odds_Draw = fractional_to_decimal(4, 1)\n",
    "decimal_odds_B    = fractional_to_decimal(2, 11)\n",
    "\n",
    "print(decimal_odds_A, decimal_odds_Draw, decimal_odds_B)\n",
    "\n",
    "# Calculate implied probabilities\n",
    "prob_A            = implied_probability(decimal_odds_A)\n",
    "prob_Draw         = implied_probability(decimal_odds_Draw)\n",
    "prob_B            = implied_probability(decimal_odds_B)\n",
    "\n",
    "prob_A, prob_Draw, prob_B, prob_A + prob_Draw + prob_B"
   ]
  },
  {
   "cell_type": "code",
   "execution_count": null,
   "id": "734a7c20-c06d-4f48-8f3d-1a885e4db7f0",
   "metadata": {},
   "outputs": [],
   "source": []
  }
 ],
 "metadata": {
  "kernelspec": {
   "display_name": "Python 3 (ipykernel)",
   "language": "python",
   "name": "python3"
  },
  "language_info": {
   "codemirror_mode": {
    "name": "ipython",
    "version": 3
   },
   "file_extension": ".py",
   "mimetype": "text/x-python",
   "name": "python",
   "nbconvert_exporter": "python",
   "pygments_lexer": "ipython3",
   "version": "3.10.0"
  }
 },
 "nbformat": 4,
 "nbformat_minor": 5
}
