{
 "cells": [
  {
   "cell_type": "code",
   "execution_count": 1,
   "id": "fd9024d8-0e11-4f9a-b276-73c5c46919cd",
   "metadata": {},
   "outputs": [],
   "source": [
    "#!pip install -r requirements.txt"
   ]
  },
  {
   "cell_type": "code",
   "execution_count": 19,
   "id": "f2c0061c-6792-42ea-9e8d-4c25635ebde3",
   "metadata": {
    "tags": []
   },
   "outputs": [],
   "source": [
    "import math\n",
    "import numpy as np\n",
    "import matplotlib.pyplot as plt\n",
    "%matplotlib inline"
   ]
  },
  {
   "cell_type": "code",
   "execution_count": 20,
   "id": "9f324eaa-394b-485a-9f85-34a0a05b8c08",
   "metadata": {},
   "outputs": [],
   "source": [
    "class Value:\n",
    "    \"\"\" stores a single scalar value and its gradient \"\"\"\n",
    "\n",
    "    def __init__(self, data, _children=(), _op='', label=''):\n",
    "        self.data = data\n",
    "        self.grad = 0.0\n",
    "        self.label = label\n",
    "        self._backward = lambda: None\n",
    "        self._prev = set(_children)\n",
    "        self._op = _op # the op that produced this node, for graphviz / debugging / etc\n",
    "\n",
    "    def __add__(self, other):\n",
    "        other = other if isinstance(other, Value) else Value(other)\n",
    "        out = Value(self.data + other.data, (self, other), '+')\n",
    "        \n",
    "        def _backward():\n",
    "            self.grad = 1.0 * self.grad\n",
    "            other.grad = 1.0 * self.grad\n",
    "            print(\"\\t + : Backward: 1.0 + \" + str(self.grad) + \" = \" + str(self.grad))\n",
    "            print(\"\\t + : Backward: 1.0 + \" + str(self.grad) + \" = \" + str(other.grad))\n",
    "        self._backward = _backward\n",
    "        \n",
    "        return out\n",
    "\n",
    "    def __mul__(self, other):\n",
    "        other = other if isinstance(other, Value) else Value(other)\n",
    "        out = Value(self.data * other.data, (self, other), '*')\n",
    "        \n",
    "        def _backward():\n",
    "            self.grad = other.data * self.grad\n",
    "            other.grad = self.data * self.grad\n",
    "            print(\"\\t * : Backward: * -> \" + str(self.grad))\n",
    "            print(\"\\t * : Backward: * -> \" + str(other.grad))\n",
    "        self._backward = _backward\n",
    "        \n",
    "        return out\n",
    "    \n",
    "    def tanh(self):\n",
    "        x = self.data\n",
    "        t = (math.exp(2*x) - 1) / (math.exp(2*x) + 1)\n",
    "        out = Value(t, (self, ), 'tanh')\n",
    "        \n",
    "        def _backward():\n",
    "            self.grad = (1 - t**2) * self.grad\n",
    "            print(\"\\t tanh : Backward: tanh(x) : \" + str(1 - t**2) +  \" * \" + str(self.grad))\n",
    "        self._backward = _backward\n",
    "        \n",
    "        return out\n",
    "    \n",
    "    def backward(self):\n",
    "        topo = []\n",
    "        visited = set()\n",
    "        def build_topo(v) :\n",
    "            if v not in visited:\n",
    "                visited.add(v)\n",
    "                for child in v._prev:\n",
    "                    build_topo(child)\n",
    "                topo.append(v)\n",
    "        build_topo(self)\n",
    "        \n",
    "        self.grad = 1.0\n",
    "        for node in reversed(topo):\n",
    "            print(node)\n",
    "            node._backward()\n",
    "        \n",
    "        \n",
    "    def __repr__(self):\n",
    "        return f\"{self.label} \\t= Value(op={self._op}, data={self.data}, grad={self.grad})\""
   ]
  },
  {
   "cell_type": "code",
   "execution_count": 21,
   "id": "ed4318fb-125a-4321-aefc-beeec52f0515",
   "metadata": {},
   "outputs": [],
   "source": [
    "# inputs xl,x2\n",
    "x1 = Value(2.0,label='x1')\n",
    "x2 = Value(8.0,label='x2')\n",
    "# weights w1, w2\n",
    "w1 = Value(-3.0, label='w1')\n",
    "w2 = Value(1.0, label= 'w2')\n",
    "# bias of the neuron\n",
    "b = Value(6.8813735870195432, label='b')\n",
    "# x1*wl + x2*w2 + b\n",
    "x1w1 = x1*w1; x1w1.label = '×1*w1'\n",
    "x2w2 = x2*w2; x2w2.label = 'x2*w2'\n",
    "x1w1x2w2 = x1w1 + x2w2; x1w1x2w2.label = \"x1*w1 + x2*w2\"\n",
    "\n",
    "n = x1w1x2w2 + b;n.label = 'n'\n",
    "o = n.tanh(); o.label = 'o'"
   ]
  },
  {
   "cell_type": "code",
   "execution_count": 22,
   "id": "abc2b4d2-bacc-4f7c-87d0-ad7f683abb03",
   "metadata": {},
   "outputs": [
    {
     "name": "stdout",
     "output_type": "stream",
     "text": [
      "o \t= Value(op=tanh, data=0.9999999613840338, grad=1.0)\n",
      "n \t= Value(op=+, data=8.881373587019542, grad=0.0)\n",
      "\t tanh : Backward: tanh(x) : 7.723193096165204e-08 * 0.0\n",
      "b \t= Value(op=, data=6.881373587019543, grad=0.0)\n",
      "x1*w1 + x2*w2 \t= Value(op=+, data=2.0, grad=0.0)\n",
      "\t + : Backward: 1.0 + 0.0 = 0.0\n",
      "\t + : Backward: 1.0 + 0.0 = 0.0\n",
      "×1*w1 \t= Value(op=*, data=-6.0, grad=0.0)\n",
      "\t + : Backward: 1.0 + 0.0 = 0.0\n",
      "\t + : Backward: 1.0 + 0.0 = 0.0\n",
      "w1 \t= Value(op=, data=-3.0, grad=0.0)\n",
      "x1 \t= Value(op=, data=2.0, grad=0.0)\n",
      "\t * : Backward: * -> -0.0\n",
      "\t * : Backward: * -> -0.0\n",
      "x2*w2 \t= Value(op=*, data=8.0, grad=0.0)\n",
      "w2 \t= Value(op=, data=1.0, grad=0.0)\n",
      "x2 \t= Value(op=, data=8.0, grad=0.0)\n",
      "\t * : Backward: * -> 0.0\n",
      "\t * : Backward: * -> 0.0\n"
     ]
    }
   ],
   "source": [
    "o.backward()"
   ]
  },
  {
   "cell_type": "code",
   "execution_count": 6,
   "id": "976b11bc-b986-4dd0-93fc-c500ba8597e7",
   "metadata": {
    "tags": []
   },
   "outputs": [
    {
     "name": "stdout",
     "output_type": "stream",
     "text": [
      "Nodes:\n",
      "tanh \t= Value(op=tanh, data=0.9999999613840338, grad=1.0)\n",
      "\n",
      "n \t= Value(op=+, data=8.881373587019542, grad=0.0)\n",
      "\t tanh : Backward: tanh(x) : 7.723193096165204e-08 * 0.0\n",
      "\n",
      "b \t= Value(op=, data=6.881373587019543, grad=0.0)\n",
      "\n",
      "x1*w1 + x2*w2 \t= Value(op=+, data=2.0, grad=0.0)\n",
      "\t + : Backward: 1.0 + 0.0 = 0.0\n",
      "\t + : Backward: 1.0 + 0.0 = 0.0\n",
      "\n",
      "×1*w1 \t= Value(op=*, data=-6.0, grad=0.0)\n",
      "\t + : Backward: 1.0 + 0.0 = 0.0\n",
      "\t + : Backward: 1.0 + 0.0 = 0.0\n",
      "\n",
      "x1 \t= Value(op=, data=2.0, grad=0.0)\n",
      "\t * : Backward: * -> -0.0\n",
      "\t * : Backward: * -> -0.0\n",
      "\n",
      "w1 \t= Value(op=, data=-3.0, grad=-0.0)\n",
      "\n",
      "x2*w2 \t= Value(op=*, data=8.0, grad=0.0)\n",
      "\n",
      "x2 \t= Value(op=, data=8.0, grad=0.0)\n",
      "\t * : Backward: * -> 0.0\n",
      "\t * : Backward: * -> 0.0\n",
      "\n",
      "w2 \t= Value(op=, data=1.0, grad=0.0)\n",
      "\n"
     ]
    },
    {
     "data": {
      "text/plain": [
       "[w2 \t= Value(op=, data=1.0, grad=0.0),\n",
       " x2 \t= Value(op=, data=8.0, grad=0.0),\n",
       " x2*w2 \t= Value(op=*, data=8.0, grad=0.0),\n",
       " w1 \t= Value(op=, data=-3.0, grad=-0.0),\n",
       " x1 \t= Value(op=, data=2.0, grad=-0.0),\n",
       " ×1*w1 \t= Value(op=*, data=-6.0, grad=0.0),\n",
       " x1*w1 + x2*w2 \t= Value(op=+, data=2.0, grad=0.0),\n",
       " b \t= Value(op=, data=6.881373587019543, grad=0.0),\n",
       " n \t= Value(op=+, data=8.881373587019542, grad=0.0),\n",
       " tanh \t= Value(op=tanh, data=0.9999999613840338, grad=1.0)]"
      ]
     },
     "execution_count": 6,
     "metadata": {},
     "output_type": "execute_result"
    }
   ],
   "source": [
    "o.grad = 1.0\n",
    "#o.data = 0.51\n",
    "\n",
    "topo = []\n",
    "visited = set()\n",
    "\n",
    "def build_topo(v) :\n",
    "    if v not in visited:\n",
    "        visited.add(v)\n",
    "        for child in v._prev:\n",
    "            build_topo(child)\n",
    "        topo.append(v)\n",
    "build_topo(o)\n",
    "\n",
    "print(\"Nodes:\")\n",
    "for node in reversed(topo):\n",
    "    print(node)\n",
    "    node._backward()\n",
    "    print()\n",
    "    \n",
    "topo"
   ]
  },
  {
   "cell_type": "code",
   "execution_count": null,
   "id": "612f67e4-c08e-48f4-a84b-4b80435aaab7",
   "metadata": {},
   "outputs": [],
   "source": []
  }
 ],
 "metadata": {
  "kernelspec": {
   "display_name": "Python 3 (ipykernel)",
   "language": "python",
   "name": "python3"
  },
  "language_info": {
   "codemirror_mode": {
    "name": "ipython",
    "version": 3
   },
   "file_extension": ".py",
   "mimetype": "text/x-python",
   "name": "python",
   "nbconvert_exporter": "python",
   "pygments_lexer": "ipython3",
   "version": "3.10.0"
  }
 },
 "nbformat": 4,
 "nbformat_minor": 5
}
